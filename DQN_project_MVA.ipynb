{
  "nbformat": 4,
  "nbformat_minor": 0,
  "metadata": {
    "kernelspec": {
      "display_name": "Python 3",
      "language": "python",
      "name": "python3"
    },
    "language_info": {
      "codemirror_mode": {
        "name": "ipython",
        "version": 3
      },
      "file_extension": ".py",
      "mimetype": "text/x-python",
      "name": "python",
      "nbconvert_exporter": "python",
      "pygments_lexer": "ipython3",
      "version": "3.5.7"
    },
    "colab": {
      "name": "DQN_project_MVA.ipynb",
      "provenance": [],
      "collapsed_sections": []
    }
  },
  "cells": [
    {
      "cell_type": "code",
      "metadata": {
        "id": "_DLpW27O5GtL",
        "colab_type": "code",
        "colab": {}
      },
      "source": [
        "!pip install scikit-video"
      ],
      "execution_count": 0,
      "outputs": []
    },
    {
      "cell_type": "markdown",
      "metadata": {
        "id": "tfiFZKuO49AY",
        "colab_type": "text"
      },
      "source": [
        "**You may need to install [OpenCV](https://pypi.python.org/pypi/opencv-python) and [scikit-video](http://www.scikit-video.org/stable/).**"
      ]
    },
    {
      "cell_type": "code",
      "metadata": {
        "id": "CsMTvCqV49Ab",
        "colab_type": "code",
        "colab": {}
      },
      "source": [
        "import keras\n",
        "import numpy as np\n",
        "import io\n",
        "import base64\n",
        "from IPython.display import HTML\n",
        "import skvideo.io\n",
        "import cv2\n",
        "import json\n",
        "\n",
        "from keras.models import Sequential, model_from_json\n",
        "from keras.layers.core import Dense, Flatten\n",
        "from keras.optimizers import sgd, adam\n",
        "from keras.layers import Conv2D, MaxPooling2D, Activation, AveragePooling2D,Reshape,BatchNormalization"
      ],
      "execution_count": 0,
      "outputs": []
    },
    {
      "cell_type": "markdown",
      "metadata": {
        "id": "nars3SUp49Ag",
        "colab_type": "text"
      },
      "source": [
        "# MiniProject on Deep Reinforcement Learning"
      ]
    },
    {
      "cell_type": "markdown",
      "metadata": {
        "id": "uSFLdmBy49Ah",
        "colab_type": "text"
      },
      "source": [
        "__Notations__: $E_p$ is the expectation under probability $p$. Please justify each of your answer and widely comment your code."
      ]
    },
    {
      "cell_type": "markdown",
      "metadata": {
        "id": "tsp_xG1x49Ak",
        "colab_type": "text"
      },
      "source": [
        "# Context"
      ]
    },
    {
      "cell_type": "markdown",
      "metadata": {
        "id": "aOM1xelS49Al",
        "colab_type": "text"
      },
      "source": [
        "In a reinforcement learning algorithm, we modelize each step $t$ as an action $a_t$ obtained from a state $s_t$, i.e. $\\{(a_{t},s_{t})_{t\\leq T}\\}$ having the Markov property. We consider a discount factor $\\gamma \\in [0,1]$ that ensures convergence. The goal is to find among all the policies $\\pi$, one that maximizes the expected reward:\n",
        "\n",
        "\\begin{equation*}\n",
        "R(\\pi)=\\sum_{t\\leq T}E_{p^{\\pi}}[\\gamma^t r(s_{t},a_{t})] \\> ,\n",
        "\\end{equation*}\n",
        "\n",
        "where: \n",
        "\\begin{equation*}p^{\\pi}(a_{0},a_{1},s_{1},...,a_{T},s_{T})=p(a_{0})\\prod_{t=1}^{T}\\pi(a_{t}|s_{t})p(s_{t+1}|s_{t},a_{t}) \\> .\n",
        "\\end{equation*}\n",
        "\n",
        "We note the $Q$-function:\n",
        "\n",
        "\\begin{equation*}Q^\\pi(s,a)=E_{p^{\\pi}}[\\sum_{t\\leq T}\\gamma^{t}r(s_{t},a_{t})|s_{0}=s,a_{0}=a] \\> .\n",
        "\\end{equation*}\n",
        "\n",
        "Thus, the optimal Q function is:\n",
        "\\begin{equation*}\n",
        "Q^*(s,a)=\\max_{\\pi}Q^\\pi(s,a) \\> .\n",
        "\\end{equation*}\n",
        "\n",
        "In this project, we will apply the deep reinforcement learning techniques to a simple game: an agent will have to learn from scratch a policy that will permit it maximizing a reward."
      ]
    },
    {
      "cell_type": "markdown",
      "metadata": {
        "id": "7fCE9NZG49An",
        "colab_type": "text"
      },
      "source": [
        "## The environment, the agent and the game"
      ]
    },
    {
      "cell_type": "markdown",
      "metadata": {
        "id": "A6dtGG_e49Ao",
        "colab_type": "text"
      },
      "source": [
        "### The environment"
      ]
    },
    {
      "cell_type": "markdown",
      "metadata": {
        "id": "v3wdLcsw49Ap",
        "colab_type": "text"
      },
      "source": [
        "```Environment``` is an abstract class that represents the states, rewards, and actions to obtain the new state."
      ]
    },
    {
      "cell_type": "code",
      "metadata": {
        "id": "xcmQI8V549Aq",
        "colab_type": "code",
        "colab": {}
      },
      "source": [
        "class Environment(object):\n",
        "    def __init__(self):\n",
        "        pass\n",
        "\n",
        "    def act(self, act):\n",
        "        \"\"\"\n",
        "        One can act on the environment and obtain its reaction:\n",
        "        - the new state\n",
        "        - the reward of the new state\n",
        "        - should we continue the game?\n",
        "\n",
        "        :return: state, reward, game_over\n",
        "        \"\"\"\n",
        "        pass\n",
        "\n",
        "\n",
        "    def reset(self):\n",
        "        \"\"\"\n",
        "        Reinitialize the environment to a random state and returns\n",
        "        the original state\n",
        "\n",
        "        :return: state\n",
        "        \"\"\"\n",
        "        pass\n",
        "    \n",
        "    def draw(self):\n",
        "        \"\"\"\n",
        "        Visualize in the console or graphically the current state\n",
        "        \"\"\"\n",
        "        pass"
      ],
      "execution_count": 0,
      "outputs": []
    },
    {
      "cell_type": "markdown",
      "metadata": {
        "id": "7wB5Sz7949Au",
        "colab_type": "text"
      },
      "source": [
        "The method ```act``` allows to act on the environment at a given state $s_t$ (stored internally), via action $a_t$. The method will return the new state $s_{t+1}$, the reward $r(s_{t},a_{t})$ and determines if $t\\leq T$ (*game_over*).\n",
        "\n",
        "The method ```reset``` simply reinitializes the environment to a random state $s_0$.\n",
        "\n",
        "The method ```draw``` displays the current state $s_t$ (this is useful to check the behavior of the Agent).\n",
        "\n",
        "We modelize $s_t$ as a tensor, while $a_t$ is an integer."
      ]
    },
    {
      "cell_type": "markdown",
      "metadata": {
        "id": "FdP8yGGM49Av",
        "colab_type": "text"
      },
      "source": [
        "### The Agent"
      ]
    },
    {
      "cell_type": "markdown",
      "metadata": {
        "id": "8rgcLkDJ49Aw",
        "colab_type": "text"
      },
      "source": [
        "The goal of the ```Agent``` is to interact with the ```Environment``` by proposing actions $a_t$ obtained from a given state $s_t$ to attempt to maximize its __reward__ $r(s_t,a_t)$. We propose the following abstract class:"
      ]
    },
    {
      "cell_type": "code",
      "metadata": {
        "id": "-CjjSKor49Ax",
        "colab_type": "code",
        "colab": {}
      },
      "source": [
        "class Agent(object):\n",
        "    def __init__(self, epsilon=0.1, n_action=4):\n",
        "        self.epsilon = epsilon\n",
        "        self.n_action = n_action\n",
        "    \n",
        "    def set_epsilon(self,e):\n",
        "        self.epsilon = e\n",
        "\n",
        "    def act(self,s,train=True):\n",
        "        \"\"\" This function should return the next action to do:\n",
        "        an integer between 0 and 4 (not included) with a random exploration of epsilon\"\"\"\n",
        "        if train:\n",
        "            if np.random.rand() <= self.epsilon:\n",
        "                a = np.random.randint(0, self.n_action, size=1)[0]\n",
        "            else:\n",
        "                a = self.learned_act(s)\n",
        "        else: # in some cases, this can improve the performance.. remove it if poor performances\n",
        "            a = self.learned_act(s)\n",
        "\n",
        "        return a\n",
        "\n",
        "    def learned_act(self,s):\n",
        "        \"\"\" Act via the policy of the agent, from a given state s\n",
        "        it proposes an action a\"\"\"\n",
        "        pass\n",
        "\n",
        "    def reinforce(self, s, n_s, a, r, game_over_):\n",
        "        \"\"\" This function is the core of the learning algorithm. \n",
        "        It takes as an input the current state s_, the next state n_s_\n",
        "        the action a_ used to move from s_ to n_s_ and the reward r_.\n",
        "        \n",
        "        Its goal is to learn a policy.\n",
        "        \"\"\"\n",
        "        pass\n",
        "\n",
        "    def save(self):\n",
        "        \"\"\" This function returns basic stats if applicable: the\n",
        "        loss and/or the model\"\"\"\n",
        "        pass\n",
        "\n",
        "    def load(self):\n",
        "        \"\"\" This function allows to restore a model\"\"\"\n",
        "        pass"
      ],
      "execution_count": 0,
      "outputs": []
    },
    {
      "cell_type": "markdown",
      "metadata": {
        "id": "mxZ29iZL49A1",
        "colab_type": "text"
      },
      "source": [
        "***\n",
        "__Question 1__:\n",
        "Explain the function act. Why is ```epsilon``` essential?"
      ]
    },
    {
      "cell_type": "markdown",
      "metadata": {
        "id": "O3giUC7e49A2",
        "colab_type": "text"
      },
      "source": [
        "The function **'act'** implements that, during the training, the agent is exploring (picking randomly the next action to do) with a probability of $\\epsilon$ and exploiting (picking the best action to do) with a probability of $1 - \\epsilon$.\n",
        "\n",
        "After the training, the agent doesn't explore anymore but only selects the best action possible from its current state.\n",
        "\n",
        "The **$\\epsilon$** parameter is essential as it allows to decide how much the agent will be eager to take risks and explore new possibilities to build its experience and find a good policy."
      ]
    },
    {
      "cell_type": "markdown",
      "metadata": {
        "id": "0G9qu2BD49A4",
        "colab_type": "text"
      },
      "source": [
        "***\n",
        "### The Game"
      ]
    },
    {
      "cell_type": "markdown",
      "metadata": {
        "id": "gIVxKPYx49A5",
        "colab_type": "text"
      },
      "source": [
        "The ```Agent``` and the ```Environment``` work in an interlaced way as in the following (take some time to understand this code as it is the core of the project)\n",
        "\n",
        "```python\n",
        "\n",
        "epoch = 300\n",
        "env = Environment()\n",
        "agent = Agent()\n",
        "\n",
        "\n",
        "# Number of won games\n",
        "score = 0\n",
        "loss = 0\n",
        "\n",
        "\n",
        "for e in range(epoch):\n",
        "    # At each epoch, we restart to a fresh game and get the initial state\n",
        "    state = env.reset()\n",
        "    # This assumes that the games will end\n",
        "    game_over = False\n",
        "\n",
        "    win = 0\n",
        "    lose = 0\n",
        "    \n",
        "    while not game_over:\n",
        "        # The agent performs an action\n",
        "        action = agent.act(state)\n",
        "\n",
        "        # Apply an action to the environment, get the next state, the reward\n",
        "        # and if the games end\n",
        "        prev_state = state\n",
        "        state, reward, game_over = env.act(action)\n",
        "\n",
        "        # Update the counters\n",
        "        if reward > 0:\n",
        "            win = win + reward\n",
        "        if reward < 0:\n",
        "            lose = lose -reward\n",
        "\n",
        "        # Apply the reinforcement strategy\n",
        "        loss = agent.reinforce(prev_state, state,  action, reward, game_over)\n",
        "\n",
        "    # Save as a mp4\n",
        "    if e % 10 == 0:\n",
        "        env.draw(e)\n",
        "\n",
        "    # Update stats\n",
        "    score += win-lose\n",
        "\n",
        "    print(\"Epoch {:03d}/{:03d} | Loss {:.4f} | Win/lose count {}/{} ({})\"\n",
        "          .format(e, epoch, loss, win, lose, win-lose))\n",
        "    agent.save()\n",
        "```"
      ]
    },
    {
      "cell_type": "markdown",
      "metadata": {
        "id": "Bob1vvFt49A6",
        "colab_type": "text"
      },
      "source": [
        "# The game, *eat cheese*"
      ]
    },
    {
      "cell_type": "markdown",
      "metadata": {
        "id": "BWzciBhg49A7",
        "colab_type": "text"
      },
      "source": [
        "A rat runs on an island and tries to eat as much as possible. The island is subdivided into $N\\times N$ cells, in which there are cheese (+0.5) and poisonous cells (-1). The rat has a visibility of 2 cells (thus it can see $5^2$ cells). The rat is given a time $T$ to accumulate as much food as possible. It can perform 4 actions: going up, down, left, right. \n",
        "\n",
        "The goal is to code an agent to solve this task that will learn by trial and error. We propose the following environment:"
      ]
    },
    {
      "cell_type": "code",
      "metadata": {
        "id": "PeBkVBw549A8",
        "colab_type": "code",
        "colab": {}
      },
      "source": [
        "class Environment(object):\n",
        "    def __init__(self, grid_size=10, max_time=500, temperature=0.1):\n",
        "        grid_size = grid_size+4\n",
        "        self.grid_size = grid_size\n",
        "        self.max_time = max_time\n",
        "        self.temperature = temperature\n",
        "\n",
        "        #board on which one plays\n",
        "        self.board = np.zeros((grid_size,grid_size))\n",
        "        self.position = np.zeros((grid_size,grid_size))\n",
        "\n",
        "        # coordinate of the cat\n",
        "        self.x = 0\n",
        "        self.y = 1\n",
        "\n",
        "        # self time\n",
        "        self.t = 0\n",
        "\n",
        "        self.scale=16\n",
        "\n",
        "        self.to_draw = np.zeros((max_time+2, grid_size*self.scale, grid_size*self.scale, 3))\n",
        "\n",
        "\n",
        "    def draw(self,e):\n",
        "        skvideo.io.vwrite(str(e) + '.mp4', self.to_draw)\n",
        "\n",
        "    def get_frame(self,t):\n",
        "        b = np.zeros((self.grid_size,self.grid_size,3))+128\n",
        "        b[self.board>0,0] = 256\n",
        "        b[self.board < 0, 2] = 256\n",
        "        b[self.x,self.y,:]=256\n",
        "        b[-2:,:,:]=0\n",
        "        b[:,-2:,:]=0\n",
        "        b[:2,:,:]=0\n",
        "        b[:,:2,:]=0\n",
        "        \n",
        "        b =  cv2.resize(b, None, fx=self.scale, fy=self.scale, interpolation=cv2.INTER_NEAREST)\n",
        "\n",
        "        self.to_draw[t,:,:,:]=b\n",
        "\n",
        "\n",
        "    def act(self, action):\n",
        "        \"\"\"This function returns the new state, reward and decides if the\n",
        "        game ends.\"\"\"\n",
        "\n",
        "        self.get_frame(int(self.t))\n",
        "\n",
        "        self.position = np.zeros((self.grid_size, self.grid_size))\n",
        "\n",
        "        self.position[0:2,:]= -1\n",
        "        self.position[:,0:2] = -1\n",
        "        self.position[-2:, :] = -1\n",
        "        self.position[:, -2:] = -1 # Modified\n",
        "\n",
        "        self.position[self.x, self.y] = 1\n",
        "        if action == 0:\n",
        "            if self.x == self.grid_size-3:\n",
        "                self.x = self.x-1\n",
        "            else:\n",
        "                self.x = self.x + 1\n",
        "        elif action == 1:\n",
        "            if self.x == 2:\n",
        "                self.x = self.x+1\n",
        "            else:\n",
        "                self.x = self.x-1\n",
        "        elif action == 2:\n",
        "            if self.y == self.grid_size - 3:\n",
        "                self.y = self.y - 1\n",
        "            else:\n",
        "                self.y = self.y + 1\n",
        "        elif action == 3:\n",
        "            if self.y == 2:\n",
        "                self.y = self.y + 1\n",
        "            else:\n",
        "                self.y = self.y - 1\n",
        "        else:\n",
        "            RuntimeError('Error: action not recognized')\n",
        "\n",
        "        self.t = self.t + 1\n",
        "        reward = self.board[self.x, self.y]\n",
        "        self.board[self.x, self.y] = 0\n",
        "        game_over = self.t > self.max_time\n",
        "        state = np.concatenate((self.board.reshape(self.grid_size, self.grid_size,1),\n",
        "                        self.position.reshape(self.grid_size, self.grid_size,1)),axis=2)\n",
        "        state = state[self.x-2:self.x+3,self.y-2:self.y+3,:]\n",
        "\n",
        "        return state, reward, game_over\n",
        "\n",
        "    def reset(self):\n",
        "        \"\"\"This function resets the game and returns the initial state\"\"\"\n",
        "\n",
        "        self.x = np.random.randint(3, self.grid_size-3, size=1)[0]\n",
        "        self.y = np.random.randint(3, self.grid_size-3, size=1)[0]\n",
        "\n",
        "\n",
        "        bonus = 0.5*np.random.binomial(1,self.temperature,size=self.grid_size**2)\n",
        "        bonus = bonus.reshape(self.grid_size,self.grid_size)\n",
        "\n",
        "        malus = -1.0*np.random.binomial(1,self.temperature,size=self.grid_size**2)\n",
        "        malus = malus.reshape(self.grid_size, self.grid_size)\n",
        "\n",
        "        self.to_draw = np.zeros((self.max_time+2, self.grid_size*self.scale, self.grid_size*self.scale, 3))\n",
        "\n",
        "\n",
        "        malus[bonus>0]=0\n",
        "\n",
        "        self.board = bonus + malus\n",
        "\n",
        "        self.position = np.zeros((self.grid_size, self.grid_size))\n",
        "        self.position[0:2,:]= -1\n",
        "        self.position[:,0:2] = -1\n",
        "        self.position[-2:, :] = -1\n",
        "        self.position[:, -2:] = -1 # Modified \n",
        "        self.board[self.x,self.y] = 0\n",
        "        self.t = 0\n",
        "\n",
        "        state = np.concatenate((\n",
        "                               self.board.reshape(self.grid_size, self.grid_size,1),\n",
        "                        self.position.reshape(self.grid_size, self.grid_size,1)),axis=2)\n",
        "\n",
        "        state = state[self.x - 2:self.x + 3, self.y - 2:self.y + 3, :]\n",
        "        return state"
      ],
      "execution_count": 0,
      "outputs": []
    },
    {
      "cell_type": "markdown",
      "metadata": {
        "id": "GK-BLOFt49BA",
        "colab_type": "text"
      },
      "source": [
        "The following elements are important because they correspond to the hyper parameters for this project:"
      ]
    },
    {
      "cell_type": "code",
      "metadata": {
        "id": "LGkePQqt49BB",
        "colab_type": "code",
        "colab": {}
      },
      "source": [
        "# parameters\n",
        "size = 13\n",
        "T=200\n",
        "temperature=0.3\n",
        "epochs_train= 15 # set small when debugging\n",
        "epochs_test= 15 # set small when debugging\n",
        "\n",
        "# display videos\n",
        "def display_videos(name):\n",
        "    video = io.open(name, 'r+b').read()\n",
        "    encoded = base64.b64encode(video)\n",
        "    return '''<video alt=\"test\" controls>\n",
        "                <source src=\"data:video/mp4;base64,{0}\" type=\"video/mp4\" />\n",
        "             </video>'''.format(encoded.decode('ascii'))"
      ],
      "execution_count": 0,
      "outputs": []
    },
    {
      "cell_type": "markdown",
      "metadata": {
        "id": "e0kAKgdc49BG",
        "colab_type": "text"
      },
      "source": [
        "__Question 2__ Explain the use of the arrays ```position``` and ```board```."
      ]
    },
    {
      "cell_type": "markdown",
      "metadata": {
        "id": "YHw-5bnl49BG",
        "colab_type": "text"
      },
      "source": [
        "*   The **position** array indicates the position of the rat in the island: the values are set to 0 except at the rat position where it is equal to 1 and at the borders, where the values are -1.\n",
        "*   The **board** array contains the values of the reward (zero, positive or negative) depending on the place in the island, i.e it incicates where there is cheese or poison.\n"
      ]
    },
    {
      "cell_type": "markdown",
      "metadata": {
        "id": "U1w4_nzo49BH",
        "colab_type": "text"
      },
      "source": [
        "## Random Agent"
      ]
    },
    {
      "cell_type": "markdown",
      "metadata": {
        "id": "IlDOB-7t49BI",
        "colab_type": "text"
      },
      "source": [
        "***\n",
        "__Question 3__ Implement a random Agent (only ```learned_act``` needs to be implemented):"
      ]
    },
    {
      "cell_type": "code",
      "metadata": {
        "id": "YYVwKbF249BJ",
        "colab_type": "code",
        "colab": {}
      },
      "source": [
        "class RandomAgent(Agent):\n",
        "    def __init__(self):\n",
        "        super(RandomAgent, self).__init__()\n",
        "        pass\n",
        "\n",
        "    def learned_act(self, s):\n",
        "        \"\"\" Select a random action\"\"\"\n",
        "        return np.random.randint(0, self.n_action)"
      ],
      "execution_count": 0,
      "outputs": []
    },
    {
      "cell_type": "markdown",
      "metadata": {
        "id": "8kUhXexe49BN",
        "colab_type": "text"
      },
      "source": [
        "***\n",
        "***\n",
        "__Question 4__ Visualize the game moves. You need to fill in the following function for the evaluation:"
      ]
    },
    {
      "cell_type": "code",
      "metadata": {
        "id": "SwgTlDVf49BO",
        "colab_type": "code",
        "colab": {}
      },
      "source": [
        "def test(agent,env,epochs,prefix=''):\n",
        "    # Number of won games\n",
        "    score = 0\n",
        "        \n",
        "    for e in range(epochs):\n",
        "        \n",
        "        # Restart to a fresh game\n",
        "        state = env.reset()\n",
        "        game_over = False\n",
        "        win = 0\n",
        "        lose = 0\n",
        "\n",
        "        while not game_over: \n",
        "          # The agent performs an action\n",
        "          action = agent.act(state)\n",
        "          \n",
        "          # Apply an action to the environment, get the next state, the reward\n",
        "          # and if the games end\n",
        "          state, reward, game_over = env.act(action)\n",
        "\n",
        "          # Update the counters\n",
        "          if reward > 0:\n",
        "              win = win + reward\n",
        "          if reward < 0:\n",
        "              lose = lose - reward\n",
        "\n",
        "          env.get_frame(e)\n",
        "        \n",
        "        # Save as a mp4\n",
        "        env.draw(prefix+str(e))\n",
        "\n",
        "        # Update stats\n",
        "        score = score + win-lose\n",
        "\n",
        "        print(\"Win/lose count {}/{}. Average score ({})\"\n",
        "              .format(win, lose, score/(1+e)))\n",
        "    print('Final score: '+str(score/epochs))"
      ],
      "execution_count": 0,
      "outputs": []
    },
    {
      "cell_type": "code",
      "metadata": {
        "id": "dE_Ddhj749BT",
        "colab_type": "code",
        "colab": {
          "base_uri": "https://localhost:8080/",
          "height": 565
        },
        "outputId": "72f24519-90a3-4bed-a1a2-5335e2421724"
      },
      "source": [
        "# Initialize the game\n",
        "env = Environment(grid_size=size, max_time=T,temperature=temperature)\n",
        "\n",
        "# Initialize the agent!\n",
        "agent = RandomAgent()\n",
        "\n",
        "test(agent,env,epochs_test,prefix='random')\n",
        "HTML(display_videos('random0.mp4'))"
      ],
      "execution_count": 19,
      "outputs": [
        {
          "output_type": "stream",
          "text": [
            "Win/lose count 11.0/13.0. Average score (-2.0)\n",
            "Win/lose count 8.0/11.0. Average score (-2.5)\n",
            "Win/lose count 17.5/20.0. Average score (-2.5)\n",
            "Win/lose count 9.0/8.0. Average score (-1.625)\n",
            "Win/lose count 12.0/19.0. Average score (-2.7)\n",
            "Win/lose count 11.5/11.0. Average score (-2.1666666666666665)\n",
            "Win/lose count 9.0/14.0. Average score (-2.5714285714285716)\n",
            "Win/lose count 8.0/6.0. Average score (-2.0)\n",
            "Win/lose count 9.0/9.0. Average score (-1.7777777777777777)\n",
            "Win/lose count 4.5/7.0. Average score (-1.85)\n",
            "Win/lose count 11.5/13.0. Average score (-1.8181818181818181)\n",
            "Win/lose count 16.5/19.0. Average score (-1.875)\n",
            "Win/lose count 8.0/21.0. Average score (-2.730769230769231)\n",
            "Win/lose count 9.0/9.0. Average score (-2.5357142857142856)\n",
            "Win/lose count 8.0/18.0. Average score (-3.033333333333333)\n",
            "Final score: -3.033333333333333\n"
          ],
          "name": "stdout"
        },
        {
          "output_type": "execute_result",
          "data": {
            "text/html": [
              "<video alt=\"test\" controls>\n",
              "                <source src=\"data:video/mp4;base64,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\" type=\"video/mp4\" />\n",
              "             </video>"
            ],
            "text/plain": [
              "<IPython.core.display.HTML object>"
            ]
          },
          "metadata": {
            "tags": []
          },
          "execution_count": 19
        }
      ]
    },
    {
      "cell_type": "markdown",
      "metadata": {
        "id": "bJ8VR_L149BX",
        "colab_type": "text"
      },
      "source": [
        "***\n",
        "## DQN"
      ]
    },
    {
      "cell_type": "markdown",
      "metadata": {
        "id": "KELo6L1y49BX",
        "colab_type": "text"
      },
      "source": [
        "Let us assume here that $T=\\infty$.\n",
        "\n",
        "***\n",
        "__Question 5__ Let $\\pi$ be a policy, show that:\n",
        "\n",
        "\\begin{equation*}\n",
        "Q^{\\pi}(s,a)=E_{(s',a')\\sim p(.|s,a)}[r(s,a)+\\gamma Q^{\\pi}(s',a')]\n",
        "\\end{equation*}\n",
        "\n",
        "Then, show that for the optimal policy $\\pi^*$ (we assume its existence), the following holds: \n",
        "\n",
        "\\begin{equation*}\n",
        "Q^{*}(s,a)=E_{s'\\sim \\pi^*(.|s,a)}[r(s,a)+\\gamma\\max_{a'}Q^{*}(s',a')].\n",
        "\\end{equation*}\n",
        "Finally, deduce that a plausible objective is:\n",
        "\n",
        "\\begin{equation*}\n",
        "\\mathcal{L}(\\theta)=E_{s' \\sim \\pi^*(.|s,a)}\\Vert r+\\gamma\\max\\max_{a'}Q(s',a',\\theta)-Q(s,a,\\theta)\\Vert^{2}.\n",
        "\\end{equation*}\n",
        "\n",
        "\n"
      ]
    },
    {
      "cell_type": "markdown",
      "metadata": {
        "id": "KBnP1KZk49BY",
        "colab_type": "text"
      },
      "source": [
        "(1) \n",
        "\n",
        "\n",
        "\\begin{align*}\n",
        "Q^{\\pi}(s,a)\n",
        "&= E_{p^{\\pi}}[\\sum_{t=0}^{t=\\infty} \\gamma ^t r(s_t, a_t) | s_0 = s, a_0 = a]\\\\\n",
        "&= r(s,a) + E_{p^{\\pi}}[\\sum_{t=1}^{t=\\infty} \\gamma ^t r(s_t, a_t) | s_0 = s, a_0 = a]\\\\\n",
        "&= r(s,a) + \\gamma \\sum _{s', a'} P(s_1=s', a_1=a'| s_0 = s, a_0 = a)\\cdot E_{p^{\\pi}}[\\sum_{t=1}^{t=T} \\gamma ^{t-1} r(s_t, a_t) | s_1 = s', a_1 = a']\\\\\n",
        "&= r(s,a) + \\gamma \\sum _{s', a'} P(s_1=s', a_1=a'| s_0 = s, a_0 = a)\\cdot E_{p^{\\pi}}[\\sum_{t=0}^{t=\\infty} \\gamma ^{t} r(s_t, a_t) | s_0 = s', a_0 = a']\\\\\n",
        "&= r(s,a) + \\gamma E_{(s',a')\\sim p(.|s,a)}[Q^{\\pi}(s',a')]\\\\\n",
        "&=E_{(s',a')\\sim p(.|s,a)}[r(s,a)+\\gamma Q^{\\pi}(s',a')]\\\\\n",
        "\\end{align*}\n",
        "\n",
        "\\\\\n",
        "\n",
        "(2) \n",
        "\n",
        "$\\pi^*$, the optimal policy, allows to pick the action that maximizes Q:\n",
        "\n",
        "$\\forall s, \\pi^*(s) = argmax_a(Q^*(s,a))$\n",
        "\n",
        "$Q^*=max_{\\pi} Q^{\\pi}(s,a)$ is the $Q$ associated to the optimal policy.\n",
        "\n",
        "Then we can write:\n",
        "\\begin{align*}\n",
        "Q^{*}(s,a)\n",
        "&=Q^{\\pi^*}(s,a) \\\\\n",
        "&=E_{s'\\sim \\pi^*(.|s,a)}[r(s,a)+\\gamma Q^{\\pi^*}(s',a')] \\\\\n",
        "&=E_{s'\\sim \\pi^*(.|s,a)}[r(s,a)+\\gamma\\max_{a'}Q^{*}(s',a')] \\\\\n",
        "\\end{align*}\n",
        "\n",
        "\\\\\n",
        "\n",
        "(3)\n",
        "\n",
        "The objective function should allow to minimize the MSE between the target $Q^*(s,a, \\theta)$ and the prediction $Q(s,a, \\theta)$, to reach $Q^*$ which is a fixed point of the optimal Bellman operator.\n",
        "\n",
        "Using the previous expression of $Q^*(s,a)$, we can deduce that the following objective function is good for the problem.\n",
        "\n",
        "\n",
        "\\begin{equation*}\n",
        "\\mathcal{L}(\\theta)=E_{s' \\sim \\pi^*(.|s,a)}\\Vert r+\\gamma\\max\\max_{a'}Q(s',a',\\theta)-Q(s,a,\\theta)\\Vert^{2}.\n",
        "\\end{equation*}\n"
      ]
    },
    {
      "cell_type": "markdown",
      "metadata": {
        "id": "0KHGkNqA49BZ",
        "colab_type": "text"
      },
      "source": [
        "***\n",
        "The DQN-learning algorithm relies on these derivations to train the parameters $\\theta$ of a Deep Neural Network:\n",
        "\n",
        "1. At the state $s_t$, select the action $a_t$ with best reward using $Q_t$ and store the results;\n",
        "\n",
        "2. Obtain the new state $s_{t+1}$ from the environment $p$;\n",
        "\n",
        "3. Store $(s_t,a_t,s_{t+1})$;\n",
        "\n",
        "4. Obtain $Q_{t+1}$ by minimizing  $\\mathcal{L}$ from a recovered batch from the previously stored results.\n",
        "\n",
        "***\n",
        "__Question 6__ Implement the class ```Memory``` that stores moves (in a replay buffer) via ```remember``` and provides a ```random_access``` to these. Specify a maximum memory size to avoid side effects. You can for example use a ```list()``` and set by default ```max_memory=100```."
      ]
    },
    {
      "cell_type": "code",
      "metadata": {
        "id": "c01NtLK349Ba",
        "colab_type": "code",
        "colab": {}
      },
      "source": [
        "class Memory(object):\n",
        "    def __init__(self, max_memory=100):\n",
        "        self.max_memory = max_memory\n",
        "        self.memory = list()\n",
        "\n",
        "    def remember(self, m):\n",
        "        # Stores the move in memory\n",
        "        self.memory.append(m)\n",
        "\n",
        "        # Keep only as many elements as the maximum memory size\n",
        "        if len(self.memory) > self.max_memory:\n",
        "            self.memory = self.memory[-self.max_memory:]\n",
        "\n",
        "    def random_access(self):\n",
        "        # Randomly picks an element in the memory\n",
        "        return self.memory[np.random.randint(len(self.memory))] "
      ],
      "execution_count": 0,
      "outputs": []
    },
    {
      "cell_type": "markdown",
      "metadata": {
        "id": "jz5WOLSU49Be",
        "colab_type": "text"
      },
      "source": [
        "***\n",
        "The pipeline we will use for training is given below:"
      ]
    },
    {
      "cell_type": "code",
      "metadata": {
        "id": "05GL8V-449Be",
        "colab_type": "code",
        "colab": {}
      },
      "source": [
        "def train(agent,env,epoch,prefix=''):\n",
        "    # Number of won games\n",
        "    score = 0\n",
        "    loss = 0\n",
        "\n",
        "    for e in range(epoch):\n",
        "        # At each epoch, we restart to a fresh game and get the initial state\n",
        "        state = env.reset()\n",
        "        # This assumes that the games will terminate\n",
        "        game_over = False\n",
        "\n",
        "        win = 0\n",
        "        lose = 0\n",
        "\n",
        "        while not game_over:\n",
        "            # The agent performs an action\n",
        "            action = agent.act(state)\n",
        "\n",
        "            # Apply an action to the environment, get the next state, the reward\n",
        "            # and if the games end\n",
        "            prev_state = state\n",
        "            state, reward, game_over = env.act(action)\n",
        "\n",
        "            # Update the counters\n",
        "            if reward > 0:\n",
        "                win = win + reward\n",
        "            if reward < 0:\n",
        "                lose = lose -reward\n",
        "\n",
        "            # Apply the reinforcement strategy\n",
        "            loss = agent.reinforce(prev_state, state,  action, reward, game_over)\n",
        "\n",
        "        # Save as a mp4\n",
        "        if e % 10 == 0:\n",
        "            env.draw(prefix+str(e))\n",
        "\n",
        "        # Update stats\n",
        "        score += win-lose\n",
        "\n",
        "        print(\"Epoch {:03d}/{:03d} | Loss {:.4f} | Win/lose count {}/{} ({})\"\n",
        "              .format(e, epoch, loss, win, lose, win-lose))\n",
        "        agent.save(name_weights=prefix+'model.h5',name_model=prefix+'model.json')"
      ],
      "execution_count": 0,
      "outputs": []
    },
    {
      "cell_type": "markdown",
      "metadata": {
        "id": "toGBv2Jg49Bk",
        "colab_type": "text"
      },
      "source": [
        "***\n",
        "__Question 7__ Implement the DQN training algorithm using a cascade of fully connected layers. You can use different learning rate, batch size or memory size parameters. In particular, the loss might oscillate while the player will start to win the games. You have to find a good criterium."
      ]
    },
    {
      "cell_type": "code",
      "metadata": {
        "id": "aeXrtHsr49Bl",
        "colab_type": "code",
        "colab": {}
      },
      "source": [
        "class DQN(Agent):\n",
        "    def __init__(self, grid_size,  epsilon = 0.1, memory_size=100, batch_size = 16,n_state=2):\n",
        "        super(DQN, self).__init__(epsilon = epsilon)\n",
        "\n",
        "        # Discount for Q learning\n",
        "        self.discount = 0.99\n",
        "        \n",
        "        self.grid_size = grid_size\n",
        "        \n",
        "        # number of state\n",
        "        self.n_state = n_state\n",
        "\n",
        "        # Memory\n",
        "        self.memory = Memory(memory_size)\n",
        "        \n",
        "        # Batch size when learning\n",
        "        self.batch_size = batch_size\n",
        "\n",
        "    def learned_act(self, s):\n",
        "        # Picks the best action, that maximizes the Q-function\n",
        "        return np.argmax(self.model.predict(np.array([s]))[0])\n",
        "\n",
        "    def reinforce(self, s_, n_s_, a_, r_, game_over_):\n",
        "        # Two steps: first memorize the states, second learn from the pool\n",
        "\n",
        "        self.memory.remember([s_, n_s_, a_, r_, game_over_])\n",
        "        \n",
        "        # Initialization\n",
        "        input_states = np.zeros((self.batch_size, 5,5,self.n_state))\n",
        "        target_q = np.zeros((self.batch_size, 4))\n",
        "        \n",
        "        for i in range(self.batch_size):\n",
        "            # Pick a random move in the memory: state, next state, action, reward and wether the game is over or not\n",
        "            s_, n_s_, a_, r_, game_over_ = self.memory.random_access()\n",
        "            # Assign the state as input state\n",
        "            input_states[i] = s_\n",
        "\n",
        "            # Compute the prediction for the current state\n",
        "            target_q[i] = self.model.predict(np.array([s_]))[0]\n",
        "            \n",
        "            # The target is updated only for the chosen action\n",
        "            if game_over_:\n",
        "                target_q[i, a_] = r_\n",
        "            else:\n",
        "                # If the game is not over, the target value is given according to the formula of Q*(s,a) seen above\n",
        "                target_q[i, a_] = r_ + self.discount * max(self.model.predict(np.array([s_]))[0])#(n_s_.reshape(1, 5, 5, self.n_state)))\n",
        "        \n",
        "        # HINT: Clip the target to avoid exploiding gradients.. -- clipping is a bit tighter\n",
        "        target_q = np.clip(target_q, -3, 3)\n",
        "\n",
        "        l = self.model.train_on_batch(input_states, target_q)\n",
        "\n",
        "\n",
        "        return l\n",
        "\n",
        "    def save(self,name_weights='model.h5',name_model='model.json'):\n",
        "        self.model.save_weights(name_weights, overwrite=True)\n",
        "        with open(name_model, \"w\") as outfile:\n",
        "            json.dump(self.model.to_json(), outfile)\n",
        "            \n",
        "    def load(self,name_weights='model.h5',name_model='model.json'):\n",
        "        with open(name_model, \"r\") as jfile:\n",
        "            model = model_from_json(json.load(jfile))\n",
        "        model.load_weights(name_weights)\n",
        "        model.compile(\"sgd\", \"mse\")\n",
        "        self.model = model\n",
        "\n",
        "            \n",
        "class DQN_FC(DQN):\n",
        "    def __init__(self, *args, lr=0.1,**kwargs):\n",
        "        super(DQN_FC, self).__init__( *args,**kwargs)\n",
        "        \n",
        "        # NN Model\n",
        "        model = Sequential()\n",
        "        model.add(Reshape((5 * 5 * self.n_state,), input_shape=(5,5, self.n_state)))\n",
        "        model.add(Dense(30, activation = 'relu'))\n",
        "        model.add(Dense(15, activation = 'relu'))\n",
        "        model.add(Dense(self.n_action, activation = 'linear'))\n",
        "        \n",
        "        model.compile(sgd(lr=lr, decay=1e-4, momentum=0.0), \"mse\")\n",
        "        self.model = model\n",
        "        "
      ],
      "execution_count": 0,
      "outputs": []
    },
    {
      "cell_type": "code",
      "metadata": {
        "id": "6yeUlGUKiOTt",
        "colab_type": "code",
        "colab": {
          "base_uri": "https://localhost:8080/",
          "height": 548
        },
        "outputId": "995762a2-b14b-4697-8d63-ba181336cde9"
      },
      "source": [
        "env = Environment(grid_size=size, max_time=T, temperature=0.3)\n",
        "agent = DQN_FC(size, lr=1e-4, epsilon = 0.1, memory_size=2000, batch_size = 64)\n",
        "train(agent, env, epochs_train, prefix='fc_train')\n",
        "HTML(display_videos('fc_train10.mp4'))"
      ],
      "execution_count": 44,
      "outputs": [
        {
          "output_type": "stream",
          "text": [
            "Epoch 000/015 | Loss 0.0080 | Win/lose count 1.5/4.0 (-2.5)\n",
            "Epoch 001/015 | Loss 0.0129 | Win/lose count 5.0/1.0 (4.0)\n",
            "Epoch 002/015 | Loss 0.0090 | Win/lose count 5.5/3.0 (2.5)\n",
            "Epoch 003/015 | Loss 0.0326 | Win/lose count 9.5/8.0 (1.5)\n",
            "Epoch 004/015 | Loss 0.0118 | Win/lose count 9.0/9.0 (0.0)\n",
            "Epoch 005/015 | Loss 0.0077 | Win/lose count 5.0/4.0 (1.0)\n",
            "Epoch 006/015 | Loss 0.0113 | Win/lose count 5.5/8.0 (-2.5)\n",
            "Epoch 007/015 | Loss 0.0107 | Win/lose count 3.0/2.0 (1.0)\n",
            "Epoch 008/015 | Loss 0.0371 | Win/lose count 9.5/8.0 (1.5)\n",
            "Epoch 009/015 | Loss 0.0139 | Win/lose count 3.0/4.0 (-1.0)\n",
            "Epoch 010/015 | Loss 0.0074 | Win/lose count 1.5/2.0 (-0.5)\n",
            "Epoch 011/015 | Loss 0.0147 | Win/lose count 4.5/6.0 (-1.5)\n",
            "Epoch 012/015 | Loss 0.0307 | Win/lose count 2.0/2.0 (0.0)\n",
            "Epoch 013/015 | Loss 0.0068 | Win/lose count 4.0/2.0 (2.0)\n",
            "Epoch 014/015 | Loss 0.0069 | Win/lose count 1.5/3.0 (-1.5)\n"
          ],
          "name": "stdout"
        },
        {
          "output_type": "execute_result",
          "data": {
            "text/html": [
              "<video alt=\"test\" controls>\n",
              "                <source src=\"data:video/mp4;base64,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\" type=\"video/mp4\" />\n",
              "             </video>"
            ],
            "text/plain": [
              "<IPython.core.display.HTML object>"
            ]
          },
          "metadata": {
            "tags": []
          },
          "execution_count": 44
        }
      ]
    },
    {
      "cell_type": "markdown",
      "metadata": {
        "id": "KzuZztAC49Bu",
        "colab_type": "text"
      },
      "source": [
        "***\n",
        "***\n",
        "__Question 8__ Implement the DQN training algorithm using a CNN (for example, 2 convolutional layers and one final fully connected layer)."
      ]
    },
    {
      "cell_type": "code",
      "metadata": {
        "id": "eWjA1aGQ49Bv",
        "colab_type": "code",
        "colab": {}
      },
      "source": [
        "class DQN_CNN(DQN):\n",
        "    def __init__(self, *args,lr=0.1,**kwargs):\n",
        "        super(DQN_CNN, self).__init__(*args,**kwargs)\n",
        "        \n",
        "        model = Sequential()\n",
        "        model.add(Conv2D(16, (3, 3), input_shape=(5,5, self.n_state), activation='relu'))\n",
        "        model.add(Conv2D(16, (3, 3), activation='relu'))\n",
        "        model.add(Flatten())\n",
        "        model.add(Dense(self.n_action, activation = \"linear\"))\n",
        "        \n",
        "        model.compile(adam(lr=lr, decay=1e-4), \"mse\") # Modified from SGD to Adam\n",
        "        self.model = model"
      ],
      "execution_count": 0,
      "outputs": []
    },
    {
      "cell_type": "code",
      "metadata": {
        "id": "MEudDvR249By",
        "colab_type": "code",
        "colab": {
          "base_uri": "https://localhost:8080/",
          "height": 548
        },
        "outputId": "71c8f76d-ca2f-4fd3-ce06-5cfec6a485ab"
      },
      "source": [
        "env = Environment(grid_size=size, max_time=T, temperature=0.3)\n",
        "agent = DQN_CNN(size, lr=1e-3, epsilon = 0.1, memory_size=2000, batch_size = 32)\n",
        "train(agent,env,epochs_train,prefix='cnn_train')\n",
        "HTML(display_videos('cnn_train10.mp4'))"
      ],
      "execution_count": 51,
      "outputs": [
        {
          "output_type": "stream",
          "text": [
            "Epoch 000/015 | Loss 0.0061 | Win/lose count 4.5/6.0 (-1.5)\n",
            "Epoch 001/015 | Loss 0.0007 | Win/lose count 6.5/5.0 (1.5)\n",
            "Epoch 002/015 | Loss 0.0035 | Win/lose count 2.0/3.0 (-1.0)\n",
            "Epoch 003/015 | Loss 0.0008 | Win/lose count 2.5/4.0 (-1.5)\n",
            "Epoch 004/015 | Loss 0.0033 | Win/lose count 9.0/4.0 (5.0)\n",
            "Epoch 005/015 | Loss 0.0013 | Win/lose count 9.5/2.0 (7.5)\n",
            "Epoch 006/015 | Loss 0.0029 | Win/lose count 7.0/7.0 (0.0)\n",
            "Epoch 007/015 | Loss 0.0019 | Win/lose count 11.5/1.0 (10.5)\n",
            "Epoch 008/015 | Loss 0.0018 | Win/lose count 6.0/3.0 (3.0)\n",
            "Epoch 009/015 | Loss 0.0014 | Win/lose count 2.0/4.0 (-2.0)\n",
            "Epoch 010/015 | Loss 0.0028 | Win/lose count 4.5/3.0 (1.5)\n",
            "Epoch 011/015 | Loss 0.0019 | Win/lose count 5.0/3.0 (2.0)\n",
            "Epoch 012/015 | Loss 0.0010 | Win/lose count 15.0/1.0 (14.0)\n",
            "Epoch 013/015 | Loss 0.0004 | Win/lose count 10.0/4.0 (6.0)\n",
            "Epoch 014/015 | Loss 0.0016 | Win/lose count 6.0/4.0 (2.0)\n"
          ],
          "name": "stdout"
        },
        {
          "output_type": "execute_result",
          "data": {
            "text/html": [
              "<video alt=\"test\" controls>\n",
              "                <source src=\"data:video/mp4;base64,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\" type=\"video/mp4\" />\n",
              "             </video>"
            ],
            "text/plain": [
              "<IPython.core.display.HTML object>"
            ]
          },
          "metadata": {
            "tags": []
          },
          "execution_count": 51
        }
      ]
    },
    {
      "cell_type": "markdown",
      "metadata": {
        "id": "OiBLUfYh49B3",
        "colab_type": "text"
      },
      "source": [
        "***\n",
        "***\n",
        "__Question 9__ Test both algorithms and compare their performances. Which issue(s) do you observe? Observe also different behaviors by changing the temperature."
      ]
    },
    {
      "cell_type": "code",
      "metadata": {
        "id": "RhzWggqD49B4",
        "colab_type": "code",
        "colab": {
          "base_uri": "https://localhost:8080/",
          "height": 595
        },
        "outputId": "0d372664-e053-4163-c93e-6d415d48ec86"
      },
      "source": [
        "env = Environment(grid_size=size, max_time=T,temperature=0.3)\n",
        "agent_cnn = DQN_CNN(size, lr=.1, epsilon = 0.1, memory_size=2000, batch_size = 32)\n",
        "agent_cnn.load(name_weights='cnn_trainmodel.h5',name_model='cnn_trainmodel.json')\n",
        "\n",
        "agent_fc = DQN_FC(size, lr=.1, epsilon = 0.1, memory_size=2000, batch_size = 32)\n",
        "agent_cnn.load(name_weights='fc_trainmodel.h5',name_model='fc_trainmodel.json')\n",
        "print('Test of the CNN')\n",
        "test(agent_cnn,env,epochs_test,prefix='cnn_test')\n",
        "print('Test of the FC')\n",
        "test(agent_fc,env,epochs_test,prefix='fc_test')"
      ],
      "execution_count": 55,
      "outputs": [
        {
          "output_type": "stream",
          "text": [
            "Test of the CNN\n",
            "Win/lose count 6.5/6.0. Average score (0.5)\n",
            "Win/lose count 6.0/7.0. Average score (-0.25)\n",
            "Win/lose count 8.5/9.0. Average score (-0.3333333333333333)\n",
            "Win/lose count 10.0/8.0. Average score (0.25)\n",
            "Win/lose count 3.5/1.0. Average score (0.7)\n",
            "Win/lose count 5.0/6.0. Average score (0.4166666666666667)\n",
            "Win/lose count 7.0/7.0. Average score (0.35714285714285715)\n",
            "Win/lose count 2.5/3.0. Average score (0.25)\n",
            "Win/lose count 5.0/6.0. Average score (0.1111111111111111)\n",
            "Win/lose count 2.5/2.0. Average score (0.15)\n",
            "Win/lose count 6.0/3.0. Average score (0.4090909090909091)\n",
            "Win/lose count 5.0/5.0. Average score (0.375)\n",
            "Win/lose count 2.0/3.0. Average score (0.2692307692307692)\n",
            "Win/lose count 4.0/7.0. Average score (0.03571428571428571)\n",
            "Win/lose count 2.0/0. Average score (0.16666666666666666)\n",
            "Final score: 0.16666666666666666\n",
            "Test of the FC\n",
            "Win/lose count 4.0/3.0. Average score (1.0)\n",
            "Win/lose count 2.5/8.0. Average score (-2.25)\n",
            "Win/lose count 2.5/2.0. Average score (-1.3333333333333333)\n",
            "Win/lose count 3.5/4.0. Average score (-1.125)\n",
            "Win/lose count 5.5/10.0. Average score (-1.8)\n",
            "Win/lose count 3.0/3.0. Average score (-1.5)\n",
            "Win/lose count 3.0/4.0. Average score (-1.4285714285714286)\n",
            "Win/lose count 1.0/2.0. Average score (-1.375)\n",
            "Win/lose count 4.5/4.0. Average score (-1.1666666666666667)\n",
            "Win/lose count 5.5/6.0. Average score (-1.1)\n",
            "Win/lose count 4.5/7.0. Average score (-1.2272727272727273)\n",
            "Win/lose count 3.5/3.0. Average score (-1.0833333333333333)\n",
            "Win/lose count 2.5/3.0. Average score (-1.0384615384615385)\n",
            "Win/lose count 5.0/5.0. Average score (-0.9642857142857143)\n",
            "Win/lose count 3.0/5.0. Average score (-1.0333333333333334)\n",
            "Final score: -1.0333333333333334\n"
          ],
          "name": "stdout"
        }
      ]
    },
    {
      "cell_type": "code",
      "metadata": {
        "id": "JILTEUuf49B7",
        "colab_type": "code",
        "colab": {
          "base_uri": "https://localhost:8080/",
          "height": 293
        },
        "outputId": "07a1d36a-9b86-4a2f-ee77-0d299c8c7159"
      },
      "source": [
        "HTML(display_videos('cnn_test10.mp4'))"
      ],
      "execution_count": 56,
      "outputs": [
        {
          "output_type": "execute_result",
          "data": {
            "text/html": [
              "<video alt=\"test\" controls>\n",
              "                <source src=\"data:video/mp4;base64,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\" type=\"video/mp4\" />\n",
              "             </video>"
            ],
            "text/plain": [
              "<IPython.core.display.HTML object>"
            ]
          },
          "metadata": {
            "tags": []
          },
          "execution_count": 56
        }
      ]
    },
    {
      "cell_type": "code",
      "metadata": {
        "id": "KAWgXMx849B-",
        "colab_type": "code",
        "colab": {
          "base_uri": "https://localhost:8080/",
          "height": 293
        },
        "outputId": "f117cde8-8a7f-469f-f86b-29411aac0aee"
      },
      "source": [
        "HTML(display_videos('fc_test10.mp4'))"
      ],
      "execution_count": 57,
      "outputs": [
        {
          "output_type": "execute_result",
          "data": {
            "text/html": [
              "<video alt=\"test\" controls>\n",
              "                <source src=\"data:video/mp4;base64,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\" type=\"video/mp4\" />\n",
              "             </video>"
            ],
            "text/plain": [
              "<IPython.core.display.HTML object>"
            ]
          },
          "metadata": {
            "tags": []
          },
          "execution_count": 57
        }
      ]
    },
    {
      "cell_type": "markdown",
      "metadata": {
        "id": "V-y-QtYQ49CA",
        "colab_type": "text"
      },
      "source": [
        "**Comparison**: \\\\\n",
        "According to the final average score, the CNN performs slightly better than the cascade of fully connected layers. However, both have do not have good results. \n",
        "\n",
        "**Issues of the algorithms**: \\\\\n",
        "The agent is not exploring enough the grid.\n",
        "It can often be stuck in some part of the grid and visit again and again places it already has visited. Indeed, visiting again the same location allows to make sure the aent does not get negative rewards. However, this is not a good behavior to adopt as we want the agent to collect as many positive rewards as possible. It needs to explore more during the learning phase, especially at the beginning of the game, to build its experience. \n",
        "\n",
        "**Behaviors depending on the temperature**: \\\\\n",
        "At low temperatures, the agent is less eager to explore the system than at high temperatures and gets more stuck in a limited number of states.\n"
      ]
    },
    {
      "cell_type": "markdown",
      "metadata": {
        "id": "425Tl9WQ49CB",
        "colab_type": "text"
      },
      "source": [
        "***\n",
        "\n",
        "The algorithm tends to not explore the map which can be an issue. We propose two ideas in order to encourage exploration:\n",
        "1. Incorporating a decreasing $\\epsilon$-greedy exploration. You can use the method ```set_epsilon```\n",
        "2. Append via the environment a new state that describes if a cell has been visited or not\n",
        "\n",
        "***\n",
        "__Question 10__ Design a new ```train_explore``` function and environment class ```EnvironmentExploring``` to tackle the issue of exploration.\n",
        "\n"
      ]
    },
    {
      "cell_type": "code",
      "metadata": {
        "id": "s3GLUawrEvl2",
        "colab_type": "code",
        "colab": {}
      },
      "source": [
        "def train_explore(agent,env,epoch,prefix=''):\n",
        "    \n",
        "    # Number of won games\n",
        "    score = 0\n",
        "    loss = 0\n",
        "\n",
        "    # Epsilon decreases linearly along epochs from 1 to agent.epsilon (initial chosen value)\n",
        "    eps_decreasing_factor = (1-agent.epsilon)/epoch\n",
        "    agent.set_epsilon(1)\n",
        "\n",
        "    for e in range(epoch):\n",
        "        # At each epoch, we restart to a fresh game and get the initial state\n",
        "        state = env.reset()\n",
        "        # This assumes that the games will end\n",
        "        game_over = False\n",
        "\n",
        "        win = 0\n",
        "        lose = 0\n",
        "\n",
        "        # Update epsilon (decreasing \\epsilon-greedy exploration)\n",
        "        agent.set_epsilon(agent.epsilon - eps_decreasing_factor)\n",
        "\n",
        "        while not game_over:\n",
        "            # The agent performs an action\n",
        "            action = agent.act(state)\n",
        "\n",
        "            # Apply an action to the environment, get the next state, the reward\n",
        "            # and if the games end\n",
        "            prev_state = state\n",
        "            state, reward, game_over = env.act(action, train=True)\n",
        "\n",
        "            # Update the counters\n",
        "            if reward > 0:\n",
        "                win = win + reward\n",
        "            if reward < 0:\n",
        "                lose = lose -reward\n",
        "\n",
        "            # Apply the reinforcement strategy\n",
        "            loss = agent.reinforce(prev_state, state,  action, reward, game_over)\n",
        "\n",
        "        # Save as a mp4\n",
        "        if e % 10 == 0:\n",
        "            env.draw(prefix+str(e))\n",
        "\n",
        "        # Update stats\n",
        "        score += win-lose\n",
        "\n",
        "        print(\"Epoch {:03d}/{:03d} | Loss {:.4f} | Win/lose count {}/{} ({})\"\n",
        "              .format(e, epoch, loss, win, lose, win-lose))\n",
        "        agent.save(name_weights=prefix+'model.h5',name_model=prefix+'model.json')\n",
        "        \n",
        "class EnvironmentExploring(Environment):\n",
        "    def __init__(self, grid_size=10, max_time=500, temperature=0.1):\n",
        "        Environment.__init__(self, grid_size=grid_size, max_time=max_time, temperature=temperature)\n",
        "\n",
        "        # Array to penalize already visited positions\n",
        "        # (Initialized to zero everywhere except at the current position of the agent)\n",
        "        self.malus_position = np.zeros((self.grid_size, self.grid_size))\n",
        "        self.malus_position[self.x, self.y] = 0.1\n",
        "\n",
        "    def act(self, action, train=False):\n",
        "        state, reward, game_over = Environment.act(self, action)\n",
        "\n",
        "        if train:\n",
        "            # Penalize if the position has already been visited\n",
        "            reward -= self.malus_position[self.x, self.y]\n",
        "        # Mark that the current position has been visited (increase malus up to a certain limit)\n",
        "        self.malus_position[self.x, self.y] = min(self.malus_position[self.x, self.y] + 0.1 , 0.5)\n",
        "\n",
        "        # New state\n",
        "        state = np.concatenate((self.malus_position.reshape(self.grid_size, self.grid_size,1),\n",
        "                                        self.board.reshape(self.grid_size, self.grid_size,1),\n",
        "                                self.position.reshape(self.grid_size, self.grid_size,1)),axis=2)\n",
        "        state = state[self.x-2:self.x+3,self.y-2:self.y+3,:]\n",
        "\n",
        "        return state, reward, game_over\n",
        "\n",
        "    def reset(self):\n",
        "        # Reset the game with the parent method and get the initial state\n",
        "        state = Environment.reset(self)\n",
        "\n",
        "        # Also reset the malus_position array\n",
        "        self.malus_position[:,:] = 0\n",
        "        self.malus_position[self.x, self.y] = 0.1\n",
        "\n",
        "        # Add the malus_position as a \"feature\" state\n",
        "        state = np.concatenate((self.malus_position.reshape(self.grid_size, self.grid_size,1),\n",
        "                                        self.board.reshape(self.grid_size, self.grid_size,1),\n",
        "                                self.position.reshape(self.grid_size, self.grid_size,1)),axis=2)\n",
        "        state = state[self.x-2:self.x+3,self.y-2:self.y+3,:]\n",
        "\n",
        "        return state"
      ],
      "execution_count": 0,
      "outputs": []
    },
    {
      "cell_type": "code",
      "metadata": {
        "id": "MnZrJaCm49CH",
        "colab_type": "code",
        "colab": {
          "base_uri": "https://localhost:8080/",
          "height": 548
        },
        "outputId": "b941a5d5-9856-4383-b387-9ac4edd047cc"
      },
      "source": [
        "# Training\n",
        "env = EnvironmentExploring(grid_size=size, max_time=T, temperature=0.3)\n",
        "agent = DQN_CNN(size, lr=1e-3, epsilon = 0.1, memory_size=2000, batch_size = 32,n_state=3)\n",
        "train_explore(agent, env, epochs_train, prefix='cnn_train_explore')\n",
        "HTML(display_videos('cnn_train_explore10.mp4'))"
      ],
      "execution_count": 84,
      "outputs": [
        {
          "output_type": "stream",
          "text": [
            "Epoch 000/015 | Loss 0.0118 | Win/lose count 9.0/47.100000000000044 (-38.100000000000044)\n",
            "Epoch 001/015 | Loss 0.0401 | Win/lose count 9.0/51.10000000000001 (-42.10000000000001)\n",
            "Epoch 002/015 | Loss 0.0111 | Win/lose count 8.0/52.50000000000003 (-44.50000000000003)\n",
            "Epoch 003/015 | Loss 0.0189 | Win/lose count 14.5/39.000000000000014 (-24.500000000000014)\n",
            "Epoch 004/015 | Loss 0.0199 | Win/lose count 17.5/31.500000000000004 (-14.000000000000004)\n",
            "Epoch 005/015 | Loss 0.0146 | Win/lose count 15.5/38.10000000000005 (-22.60000000000005)\n",
            "Epoch 006/015 | Loss 0.0119 | Win/lose count 11.5/40.800000000000026 (-29.300000000000026)\n",
            "Epoch 007/015 | Loss 0.0124 | Win/lose count 13.0/34.20000000000001 (-21.20000000000001)\n",
            "Epoch 008/015 | Loss 0.0190 | Win/lose count 15.5/35.400000000000034 (-19.900000000000034)\n",
            "Epoch 009/015 | Loss 0.0126 | Win/lose count 15.0/31.900000000000016 (-16.900000000000016)\n",
            "Epoch 010/015 | Loss 0.0116 | Win/lose count 20.5/25.699999999999996 (-5.199999999999996)\n",
            "Epoch 011/015 | Loss 0.0200 | Win/lose count 13.5/25.200000000000006 (-11.700000000000006)\n",
            "Epoch 012/015 | Loss 0.0100 | Win/lose count 19.0/24.699999999999985 (-5.699999999999985)\n",
            "Epoch 013/015 | Loss 0.0087 | Win/lose count 23.5/23.199999999999996 (0.30000000000000426)\n",
            "Epoch 014/015 | Loss 0.0090 | Win/lose count 17.5/27.900000000000023 (-10.400000000000023)\n"
          ],
          "name": "stdout"
        },
        {
          "output_type": "execute_result",
          "data": {
            "text/html": [
              "<video alt=\"test\" controls>\n",
              "                <source src=\"data:video/mp4;base64,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\" type=\"video/mp4\" />\n",
              "             </video>"
            ],
            "text/plain": [
              "<IPython.core.display.HTML object>"
            ]
          },
          "metadata": {
            "tags": []
          },
          "execution_count": 84
        }
      ]
    },
    {
      "cell_type": "code",
      "metadata": {
        "id": "geW1FEfv49CN",
        "colab_type": "code",
        "colab": {
          "base_uri": "https://localhost:8080/",
          "height": 565
        },
        "outputId": "aced027f-3a65-4f3d-fbba-3da86e302b3e"
      },
      "source": [
        "# Evaluation\n",
        "test(agent,env,epochs_test,prefix='cnn_test_explore')\n",
        "HTML(display_videos('cnn_test_explore14.mp4'))"
      ],
      "execution_count": 85,
      "outputs": [
        {
          "output_type": "stream",
          "text": [
            "Win/lose count 18.5/1.0. Average score (17.5)\n",
            "Win/lose count 20.5/7.0. Average score (15.5)\n",
            "Win/lose count 20.0/7.0. Average score (14.666666666666666)\n",
            "Win/lose count 20.0/2.0. Average score (15.5)\n",
            "Win/lose count 12.0/5.0. Average score (13.8)\n",
            "Win/lose count 9.0/4.0. Average score (12.333333333333334)\n",
            "Win/lose count 21.5/3.0. Average score (13.214285714285714)\n",
            "Win/lose count 12.0/5.0. Average score (12.4375)\n",
            "Win/lose count 20.0/5.0. Average score (12.722222222222221)\n",
            "Win/lose count 24.0/7.0. Average score (13.15)\n",
            "Win/lose count 17.5/4.0. Average score (13.181818181818182)\n",
            "Win/lose count 17.0/8.0. Average score (12.833333333333334)\n",
            "Win/lose count 24.0/6.0. Average score (13.23076923076923)\n",
            "Win/lose count 20.5/8.0. Average score (13.178571428571429)\n",
            "Win/lose count 19.0/4.0. Average score (13.3)\n",
            "Final score: 13.3\n"
          ],
          "name": "stdout"
        },
        {
          "output_type": "execute_result",
          "data": {
            "text/html": [
              "<video alt=\"test\" controls>\n",
              "                <source src=\"data:video/mp4;base64,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\" type=\"video/mp4\" />\n",
              "             </video>"
            ],
            "text/plain": [
              "<IPython.core.display.HTML object>"
            ]
          },
          "metadata": {
            "tags": []
          },
          "execution_count": 85
        }
      ]
    },
    {
      "cell_type": "markdown",
      "metadata": {
        "id": "LEgoRDBja82u",
        "colab_type": "text"
      },
      "source": [
        "As expected, the $\\epsilon$-decreasing strategy and the malus for already-visited positions allow the agent to explore more of the grid. It improves a lot the results, leading to a better average score and an efficient trajectory in the island."
      ]
    },
    {
      "cell_type": "markdown",
      "metadata": {
        "id": "rwGvha_e49CS",
        "colab_type": "text"
      },
      "source": [
        "***\n",
        "***\n",
        "__BONUS question__ Use the expert DQN from the previous question to generate some winning games. Train a model that mimicks its behavior. Compare the performances."
      ]
    },
    {
      "cell_type": "markdown",
      "metadata": {
        "id": "kcJe2oRF49CT",
        "colab_type": "text"
      },
      "source": [
        ""
      ]
    },
    {
      "cell_type": "markdown",
      "metadata": {
        "id": "2HgSVCbL49CU",
        "colab_type": "text"
      },
      "source": [
        "***"
      ]
    }
  ]
}